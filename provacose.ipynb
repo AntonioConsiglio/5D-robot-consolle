{
 "cells": [
  {
   "cell_type": "code",
   "execution_count": 1,
   "metadata": {},
   "outputs": [
    {
     "name": "stderr",
     "output_type": "stream",
     "text": [
      "C:\\Users\\anton\\anaconda3\\envs\\arduino\\Lib\\site-packages\\shiboken2\\files.dir\\shibokensupport\\__feature__.py:142: TqdmWarning: IProgress not found. Please update jupyter and ipywidgets. See https://ipywidgets.readthedocs.io/en/stable/user_install.html\n",
      "  return original_import(name, *args, **kwargs)\n"
     ]
    }
   ],
   "source": [
    "from applicationLib.utilsLib.detectormanager import DetectionManager\n",
    "import cv2\n",
    "import PIL\n",
    "import numpy as np"
   ]
  },
  {
   "cell_type": "code",
   "execution_count": 10,
   "metadata": {},
   "outputs": [],
   "source": [
    "img = cv2.imread(\"C:\\\\Users\\\\anton\\\\Desktop\\\\dataset\\\\662.png\")"
   ]
  },
  {
   "cell_type": "code",
   "execution_count": 11,
   "metadata": {},
   "outputs": [],
   "source": [
    "manager = DetectionManager()\n",
    "manager.load_yolor_model()"
   ]
  },
  {
   "cell_type": "code",
   "execution_count": 12,
   "metadata": {},
   "outputs": [
    {
     "name": "stdout",
     "output_type": "stream",
     "text": [
      "EXECUTION TIME: 55.9995174407959 ms\n"
     ]
    }
   ],
   "source": [
    "frame,predictions = manager.predict(img)"
   ]
  },
  {
   "cell_type": "code",
   "execution_count": 13,
   "metadata": {},
   "outputs": [],
   "source": [
    "immagine = PIL.Image.fromarray(frame)\n",
    "immagine.show()"
   ]
  }
 ],
 "metadata": {
  "kernelspec": {
   "display_name": "Python 3.9.12 ('arduino')",
   "language": "python",
   "name": "python3"
  },
  "language_info": {
   "codemirror_mode": {
    "name": "ipython",
    "version": 3
   },
   "file_extension": ".py",
   "mimetype": "text/x-python",
   "name": "python",
   "nbconvert_exporter": "python",
   "pygments_lexer": "ipython3",
   "version": "3.9.12"
  },
  "orig_nbformat": 4,
  "vscode": {
   "interpreter": {
    "hash": "fa0744d8994b530da6000fc04ade0bd5966c2128bbf2678a4f38116419f661db"
   }
  }
 },
 "nbformat": 4,
 "nbformat_minor": 2
}
